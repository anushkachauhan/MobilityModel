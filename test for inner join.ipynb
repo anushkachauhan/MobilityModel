{
 "cells": [
  {
   "cell_type": "code",
   "execution_count": 5,
   "metadata": {},
   "outputs": [],
   "source": [
    "import pandas as pd\n",
    "a = [ ['x1' , 'Apple'  , 0.3 ,  0.9 ,   0.6],\n",
    "['x1' , 'Orange' , 0.1 ,  0.5 ,   0.2],\n",
    "['x2' , 'Apple'  , 0.2 ,  0.2 ,   0.1],\n",
    "['x2' , 'Orange' , 0.3 ,  0.4 ,   0.9],\n",
    "['x2' , 'Mango'  , 0.1 ,  0.2 ,   0.3],\n",
    "['x3' , 'Orange' , 0.3 ,  0.1 ,   0.2] ]\n",
    "df_a = pd.DataFrame(a, columns =['A', 'B', 'C', 'D', 'E']) "
   ]
  },
  {
   "cell_type": "code",
   "execution_count": 6,
   "metadata": {},
   "outputs": [],
   "source": [
    "b = [   ['x1' , 'Apple'  , 0.3], \n",
    "['x1' , 'Mango'  , 0.2],\n",
    "['x1' , 'Orange' , 0.1],  \n",
    "['x2' , 'Apple'  , 0.2],  \n",
    "['x2' , 'Orange' , 0.3],    \n",
    "['x2' , 'Mango'  , 0.1], \n",
    "['x3' , 'Orange' , 0.3], \n",
    "['x3' , 'Mango' , 0.2], \n",
    "['x3' , 'Apple' ,  0.1]] \n",
    "df_b = pd.DataFrame(b, columns =['A' ,  'B_new'  , 'F'])"
   ]
  },
  {
   "cell_type": "code",
   "execution_count": 7,
   "metadata": {},
   "outputs": [
    {
     "name": "stdout",
     "output_type": "stream",
     "text": [
      "    A       B    C    D    E   B_new    F\n",
      "0  x1   Apple  0.3  0.9  0.6   Apple  0.3\n",
      "1  x1  Orange  0.1  0.5  0.2  Orange  0.1\n",
      "2  x2   Apple  0.2  0.2  0.1   Apple  0.2\n",
      "3  x2  Orange  0.3  0.4  0.9  Orange  0.3\n",
      "4  x2   Mango  0.1  0.2  0.3   Mango  0.1\n",
      "5  x3  Orange  0.3  0.1  0.2  Orange  0.3\n"
     ]
    }
   ],
   "source": [
    "res = df_a.merge(df_b, how='inner', left_on=['A', 'B'], right_on=['A', 'B_new'])\n",
    "\n",
    "print(res)"
   ]
  },
  {
   "cell_type": "code",
   "execution_count": null,
   "metadata": {},
   "outputs": [],
   "source": []
  }
 ],
 "metadata": {
  "kernelspec": {
   "display_name": "Python 3",
   "language": "python",
   "name": "python3"
  },
  "language_info": {
   "codemirror_mode": {
    "name": "ipython",
    "version": 3
   },
   "file_extension": ".py",
   "mimetype": "text/x-python",
   "name": "python",
   "nbconvert_exporter": "python",
   "pygments_lexer": "ipython3",
   "version": "3.7.3"
  }
 },
 "nbformat": 4,
 "nbformat_minor": 2
}
